{
 "cells": [
  {
   "cell_type": "code",
   "execution_count": 1,
   "metadata": {
    "collapsed": true
   },
   "outputs": [],
   "source": [
    "%matplotlib inline\n",
    "import numpy as np\n",
    "import matplotlib.pyplot as plt\n",
    "from mpl_toolkits.basemap import Basemap\n",
    "import pandas as pd"
   ]
  },
  {
   "cell_type": "markdown",
   "metadata": {},
   "source": [
    "## extractGNSSAHD"
   ]
  },
  {
   "cell_type": "markdown",
   "metadata": {},
   "source": [
    "This script opens the output from the DynaNet National Adjustment\n",
    "and extracts those points which have AHD heights.\n",
    "\n",
    "Only points which have an AHD height can be used in the development\n",
    "of AUSGeoid.\n",
    "\n",
    "NOTE: Not all the points coming out of the adjustment will have an AHD\n",
    "height, this script is will extract only those points which have an\n",
    "ellipsoidal height and an AHD height along with it's uncertainty\n",
    "if it has been provided."
   ]
  },
  {
   "cell_type": "code",
   "execution_count": 2,
   "metadata": {
    "collapsed": true
   },
   "outputs": [],
   "source": [
    "# import DynaNet file\n",
    "ahd = pd.read_csv('ahd_gda2020_v1.3.dat',\n",
    "                  delim_whitespace=True,\n",
    "                  skiprows=1,\n",
    "                  header=None,\n",
    "                  names=['ID',\n",
    "                         'CONST',\n",
    "                         'LAT',\n",
    "                         'LON',\n",
    "                         'H_Ortho',\n",
    "                         'h_Ellipse',\n",
    "                         'X',\n",
    "                         'Y',\n",
    "                         'Z',\n",
    "                         'SD_e',\n",
    "                         'SD_n',\n",
    "                         'SD_h',\n",
    "                         'AHD',\n",
    "                         'SD_AHD'])"
   ]
  },
  {
   "cell_type": "code",
   "execution_count": 3,
   "metadata": {},
   "outputs": [
    {
     "data": {
      "text/html": [
       "<div>\n",
       "<style>\n",
       "    .dataframe thead tr:only-child th {\n",
       "        text-align: right;\n",
       "    }\n",
       "\n",
       "    .dataframe thead th {\n",
       "        text-align: left;\n",
       "    }\n",
       "\n",
       "    .dataframe tbody tr th {\n",
       "        vertical-align: top;\n",
       "    }\n",
       "</style>\n",
       "<table border=\"1\" class=\"dataframe\">\n",
       "  <thead>\n",
       "    <tr style=\"text-align: right;\">\n",
       "      <th></th>\n",
       "      <th>ID</th>\n",
       "      <th>CONST</th>\n",
       "      <th>LAT</th>\n",
       "      <th>LON</th>\n",
       "      <th>H_Ortho</th>\n",
       "      <th>h_Ellipse</th>\n",
       "      <th>X</th>\n",
       "      <th>Y</th>\n",
       "      <th>Z</th>\n",
       "      <th>SD_e</th>\n",
       "      <th>SD_n</th>\n",
       "      <th>SD_h</th>\n",
       "      <th>AHD</th>\n",
       "      <th>SD_AHD</th>\n",
       "    </tr>\n",
       "  </thead>\n",
       "  <tbody>\n",
       "    <tr>\n",
       "      <th>0</th>\n",
       "      <td>1000619</td>\n",
       "      <td>FFF</td>\n",
       "      <td>-20.316292</td>\n",
       "      <td>118.576728</td>\n",
       "      <td>5.0513</td>\n",
       "      <td>3.5189</td>\n",
       "      <td>-2.862249e+06</td>\n",
       "      <td>5.254814e+06</td>\n",
       "      <td>-2.200569e+06</td>\n",
       "      <td>0.0028</td>\n",
       "      <td>0.0025</td>\n",
       "      <td>0.0062</td>\n",
       "      <td>5.039</td>\n",
       "      <td>-999.0</td>\n",
       "    </tr>\n",
       "    <tr>\n",
       "      <th>1</th>\n",
       "      <td>1002227</td>\n",
       "      <td>FFF</td>\n",
       "      <td>-22.126620</td>\n",
       "      <td>114.082379</td>\n",
       "      <td>13.2778</td>\n",
       "      <td>-0.7578</td>\n",
       "      <td>-2.412071e+06</td>\n",
       "      <td>5.396704e+06</td>\n",
       "      <td>-2.387407e+06</td>\n",
       "      <td>0.0022</td>\n",
       "      <td>0.0019</td>\n",
       "      <td>0.0072</td>\n",
       "      <td>13.275</td>\n",
       "      <td>-999.0</td>\n",
       "    </tr>\n",
       "    <tr>\n",
       "      <th>2</th>\n",
       "      <td>100375</td>\n",
       "      <td>FFF</td>\n",
       "      <td>-30.857534</td>\n",
       "      <td>128.034238</td>\n",
       "      <td>169.3684</td>\n",
       "      <td>149.5934</td>\n",
       "      <td>-3.376551e+06</td>\n",
       "      <td>4.316469e+06</td>\n",
       "      <td>-3.252421e+06</td>\n",
       "      <td>0.0013</td>\n",
       "      <td>0.0013</td>\n",
       "      <td>0.0034</td>\n",
       "      <td>169.369</td>\n",
       "      <td>-999.0</td>\n",
       "    </tr>\n",
       "    <tr>\n",
       "      <th>3</th>\n",
       "      <td>100384</td>\n",
       "      <td>FFF</td>\n",
       "      <td>-28.179691</td>\n",
       "      <td>114.510054</td>\n",
       "      <td>271.8558</td>\n",
       "      <td>250.0941</td>\n",
       "      <td>-2.334196e+06</td>\n",
       "      <td>5.119546e+06</td>\n",
       "      <td>-2.994191e+06</td>\n",
       "      <td>0.0013</td>\n",
       "      <td>0.0012</td>\n",
       "      <td>0.0037</td>\n",
       "      <td>271.861</td>\n",
       "      <td>-999.0</td>\n",
       "    </tr>\n",
       "    <tr>\n",
       "      <th>4</th>\n",
       "      <td>100387</td>\n",
       "      <td>FFF</td>\n",
       "      <td>-31.578329</td>\n",
       "      <td>117.846459</td>\n",
       "      <td>329.0848</td>\n",
       "      <td>303.0600</td>\n",
       "      <td>-2.540553e+06</td>\n",
       "      <td>4.809131e+06</td>\n",
       "      <td>-3.320848e+06</td>\n",
       "      <td>0.0012</td>\n",
       "      <td>0.0012</td>\n",
       "      <td>0.0030</td>\n",
       "      <td>329.085</td>\n",
       "      <td>-999.0</td>\n",
       "    </tr>\n",
       "  </tbody>\n",
       "</table>\n",
       "</div>"
      ],
      "text/plain": [
       "        ID CONST        LAT         LON   H_Ortho  h_Ellipse             X  \\\n",
       "0  1000619   FFF -20.316292  118.576728    5.0513     3.5189 -2.862249e+06   \n",
       "1  1002227   FFF -22.126620  114.082379   13.2778    -0.7578 -2.412071e+06   \n",
       "2   100375   FFF -30.857534  128.034238  169.3684   149.5934 -3.376551e+06   \n",
       "3   100384   FFF -28.179691  114.510054  271.8558   250.0941 -2.334196e+06   \n",
       "4   100387   FFF -31.578329  117.846459  329.0848   303.0600 -2.540553e+06   \n",
       "\n",
       "              Y             Z    SD_e    SD_n    SD_h      AHD  SD_AHD  \n",
       "0  5.254814e+06 -2.200569e+06  0.0028  0.0025  0.0062    5.039  -999.0  \n",
       "1  5.396704e+06 -2.387407e+06  0.0022  0.0019  0.0072   13.275  -999.0  \n",
       "2  4.316469e+06 -3.252421e+06  0.0013  0.0013  0.0034  169.369  -999.0  \n",
       "3  5.119546e+06 -2.994191e+06  0.0013  0.0012  0.0037  271.861  -999.0  \n",
       "4  4.809131e+06 -3.320848e+06  0.0012  0.0012  0.0030  329.085  -999.0  "
      ]
     },
     "execution_count": 3,
     "metadata": {},
     "output_type": "execute_result"
    }
   ],
   "source": [
    "ahd.head()"
   ]
  },
  {
   "cell_type": "code",
   "execution_count": 4,
   "metadata": {},
   "outputs": [
    {
     "name": "stdout",
     "output_type": "stream",
     "text": [
      "No. pts in adjustment: 7642\n",
      "No. pts in adjustment with AHD ht included: 7642\n"
     ]
    }
   ],
   "source": [
    "print('No. pts in adjustment: ' + str(len(ahd)))\n",
    "print('No. pts in adjustment with AHD ht included: '\n",
    "      + str(len(ahd.loc[ahd.AHD != -999.000])))"
   ]
  },
  {
   "cell_type": "code",
   "execution_count": null,
   "metadata": {
    "collapsed": true
   },
   "outputs": [],
   "source": [
    "ahd.to_csv(sep=' ')"
   ]
  },
  {
   "cell_type": "code",
   "execution_count": null,
   "metadata": {
    "collapsed": true
   },
   "outputs": [],
   "source": []
  },
  {
   "cell_type": "code",
   "execution_count": null,
   "metadata": {
    "collapsed": true
   },
   "outputs": [],
   "source": []
  },
  {
   "cell_type": "code",
   "execution_count": 28,
   "metadata": {},
   "outputs": [
    {
     "data": {
      "text/plain": [
       "-20.316291533000001"
      ]
     },
     "execution_count": 28,
     "metadata": {},
     "output_type": "execute_result"
    }
   ],
   "source": [
    "ahd.iloc[0].Latitude"
   ]
  },
  {
   "cell_type": "markdown",
   "metadata": {},
   "source": [
    "Is the data type/precision for this correct?"
   ]
  },
  {
   "cell_type": "code",
   "execution_count": 33,
   "metadata": {},
   "outputs": [
    {
     "name": "stderr",
     "output_type": "stream",
     "text": [
      "/nix/store/7c6is2fjy2s4ad6j3rpixzbhm3ggmqcx-python3-3.6.4-env/lib/python3.6/site-packages/mpl_toolkits/basemap/__init__.py:3222: MatplotlibDeprecationWarning: The ishold function was deprecated in version 2.0.\n",
      "  b = ax.ishold()\n",
      "/nix/store/7c6is2fjy2s4ad6j3rpixzbhm3ggmqcx-python3-3.6.4-env/lib/python3.6/site-packages/mpl_toolkits/basemap/__init__.py:3231: MatplotlibDeprecationWarning: axes.hold is deprecated.\n",
      "    See the API Changes document (http://matplotlib.org/api/api_changes.html)\n",
      "    for more details.\n",
      "  ax.hold(b)\n"
     ]
    },
    {
     "data": {
      "text/plain": [
       "<matplotlib.colorbar.Colorbar at 0x7f9383f47400>"
      ]
     },
     "execution_count": 33,
     "metadata": {},
     "output_type": "execute_result"
    },
    {
     "data": {
      "image/png": "[encoded data removed]",
      "text/plain": [
       "<matplotlib.figure.Figure at 0x7f938424aef0>"
      ]
     },
     "metadata": {},
     "output_type": "display_data"
    }
   ],
   "source": [
    "lats, lons = zip(*ahd[['LAT', 'LON']].values)\n",
    "z = ahd['Z']\n",
    "\n",
    "top = max(lats)\n",
    "bottom = min(lats)\n",
    "left = min(lons)\n",
    "right = max(lons)\n",
    "m = Basemap(projection='merc',\n",
    "            resolution='l',\n",
    "            lat_0=(top + bottom) / 2,\n",
    "            lon_0=(left + right) / 2,\n",
    "            area_thresh=0.1,\n",
    "            llcrnrlon=left,\n",
    "            llcrnrlat=bottom,\n",
    "            urcrnrlon=right,\n",
    "            urcrnrlat=top)\n",
    "\n",
    "m.drawcoastlines()\n",
    "\n",
    "lons, lats = m(lons, lats)\n",
    "\n",
    "m.scatter(lons, lats, s=1, c=z)\n",
    "\n",
    "plt.title(\"DynaNet National Adjustment\")\n",
    "plt.colorbar()"
   ]
  },
  {
   "cell_type": "code",
   "execution_count": 15,
   "metadata": {
    "collapsed": true
   },
   "outputs": [],
   "source": [
    "ahd['index2'] = pd.RangeIndex(start=1, stop=len(ahd)+1, step=1)"
   ]
  },
  {
   "cell_type": "code",
   "execution_count": 30,
   "metadata": {
    "collapsed": true
   },
   "outputs": [],
   "source": [
    "ahd.loc[ahd.AHD != -999.000][['index2',\n",
    "                              'LAT',\n",
    "                              'LON',\n",
    "                              'h_Ellipse',\n",
    "                              'SD_h',\n",
    "                              'AHD',\n",
    "                              'SD_AHD',\n",
    "                              'ID']].to_csv('1_GNSSAHD.txt',\n",
    "                                            sep=' ',\n",
    "                                            header=False,\n",
    "                                            index=False)"
   ]
  },
  {
   "cell_type": "markdown",
   "metadata": {
    "collapsed": true
   },
   "source": [
    "## estimateAHDsigma"
   ]
  },
  {
   "cell_type": "markdown",
   "metadata": {},
   "source": [
    "This script opens the output from extractGNSSAHD and estimate the\n",
    "AHD uncertainties at collocated GNSS + AHD sites which have no AHD\n",
    "uncertainty.\n",
    "\n",
    "### COMPUTE SIGMA\n",
    "\n",
    "1. Read in a GNSS+AHD point\n",
    "2. Check if it has a AHD uncertainty. If it does not, that is, it has an\n",
    "   uncertainty value of -999, then compute an uncertainty based on distance\n",
    "   to nearest JP. The program calculates the closest junction point to each\n",
    "  GNSS+AHD pt and the uncertainty is 12 rt k where k is distance.\n",
    "3. If it already has an uncertainty, write the GNSS+AHD points with a AHD uncertainty to file\n",
    "4. SD_NAHD = sqrt((SD_h\\*\\*2)+(SD_GNSSAHD\\*\\*2))\n",
    "   That is - the SD of Nahd does not include gravity model uncertainty"
   ]
  },
  {
   "cell_type": "code",
   "execution_count": null,
   "metadata": {
    "collapsed": true
   },
   "outputs": [],
   "source": []
  }
 ],
 "metadata": {
  "kernelspec": {
   "display_name": "Python 3",
   "language": "python",
   "name": "python3"
  },
  "language_info": {
   "codemirror_mode": {
    "name": "ipython",
    "version": 3
   },
   "file_extension": ".py",
   "mimetype": "text/x-python",
   "name": "python",
   "nbconvert_exporter": "python",
   "pygments_lexer": "ipython3",
   "version": "3.6.4"
  }
 },
 "nbformat": 4,
 "nbformat_minor": 2
}
