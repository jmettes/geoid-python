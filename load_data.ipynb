{
 "cells": [
  {
   "cell_type": "code",
   "execution_count": 27,
   "metadata": {},
   "outputs": [],
   "source": [
    "%matplotlib inline\n",
    "import numpy as np\n",
    "import matplotlib.pyplot as plt\n",
    "from mpl_toolkits.basemap import Basemap\n",
    "import pandas as pd"
   ]
  },
  {
   "cell_type": "markdown",
   "metadata": {},
   "source": [
    "## extractGNSSAHD"
   ]
  },
  {
   "cell_type": "markdown",
   "metadata": {},
   "source": [
    "This script opens the output from the DynaNet National Adjustment\n",
    "and extracts those points which have AHD heights.\n",
    "\n",
    "Only points which have an AHD height can be used in the development\n",
    "of AUSGeoid.\n",
    "\n",
    "NOTE: Not all the points coming out of the adjustment will have an AHD\n",
    "height, this script is will extract only those points which have an\n",
    "ellipsoidal height and an AHD height along with it's uncertainty\n",
    "if it has been provided."
   ]
  },
  {
   "cell_type": "code",
   "execution_count": 83,
   "metadata": {},
   "outputs": [
    {
     "name": "stdout",
     "output_type": "stream",
     "text": [
      "#Station            Const      Latitude      Longitude   H(Ortho) h(Ellipse)              X              Y              Z       SD(e)     SD(n)    SD(up)       AHD   AHD err\r\n",
      "1000619             FFF   -20.316291533  118.576727769     5.0513     3.5189  -2862249.2343   5254813.7778  -2200568.5522      0.0028    0.0025    0.0062     5.039  -999.000\r\n"
     ]
    }
   ],
   "source": [
    "!head ahd_gda2020_v1.3.dat -n 2"
   ]
  },
  {
   "cell_type": "code",
   "execution_count": 28,
   "metadata": {},
   "outputs": [],
   "source": [
    "# import DynaNet file\n",
    "ahd = pd.read_csv('ahd_gda2020_v1.3.dat',\n",
    "                  delim_whitespace=True,\n",
    "                  skiprows=1,\n",
    "                  header=None,\n",
    "                  names=['ID',\n",
    "                         'CONST',\n",
    "                         'LAT',\n",
    "                         'LON',\n",
    "                         'H_Ortho',\n",
    "                         'h_Ellipse',\n",
    "                         'X',\n",
    "                         'Y',\n",
    "                         'Z',\n",
    "                         'SD_e',\n",
    "                         'SD_n',\n",
    "                         'SD_h',\n",
    "                         'AHD',\n",
    "                         'SD_AHD'])"
   ]
  },
  {
   "cell_type": "code",
   "execution_count": 740,
   "metadata": {},
   "outputs": [],
   "source": [
    "ahd2 = np.genfromtxt('ahd_gda2020_v1.3.dat',\n",
    "                     dtype='U20,U3,f8,f8,f8,f8,f8,f8,f8,f8,f8,f8,f8,f8',\n",
    "                     names=['ID','CONST','LAT','LON','H_Ortho','h_Ellipse','X','Y','Z','SD_e','SD_n','SD_h','AHD','SD_AHD'],\n",
    "                     skip_header=True)\n",
    "\n",
    "from numpy.lib.recfunctions import append_fields\n",
    "ahd2 = append_fields(ahd2.copy(), 'POINT', np.arange(1, len(ahd2)+1).T, np.long)"
   ]
  },
  {
   "cell_type": "code",
   "execution_count": 190,
   "metadata": {},
   "outputs": [
    {
     "data": {
      "text/html": [
       "<div>\n",
       "<style scoped>\n",
       "    .dataframe tbody tr th:only-of-type {\n",
       "        vertical-align: middle;\n",
       "    }\n",
       "\n",
       "    .dataframe tbody tr th {\n",
       "        vertical-align: top;\n",
       "    }\n",
       "\n",
       "    .dataframe thead th {\n",
       "        text-align: right;\n",
       "    }\n",
       "</style>\n",
       "<table border=\"1\" class=\"dataframe\">\n",
       "  <thead>\n",
       "    <tr style=\"text-align: right;\">\n",
       "      <th></th>\n",
       "      <th>ID</th>\n",
       "      <th>CONST</th>\n",
       "      <th>LAT</th>\n",
       "      <th>LON</th>\n",
       "      <th>H_Ortho</th>\n",
       "      <th>h_Ellipse</th>\n",
       "      <th>X</th>\n",
       "      <th>Y</th>\n",
       "      <th>Z</th>\n",
       "      <th>SD_e</th>\n",
       "      <th>SD_n</th>\n",
       "      <th>SD_h</th>\n",
       "      <th>AHD</th>\n",
       "      <th>SD_AHD</th>\n",
       "      <th>index2</th>\n",
       "    </tr>\n",
       "  </thead>\n",
       "  <tbody>\n",
       "    <tr>\n",
       "      <th>0</th>\n",
       "      <td>1000619</td>\n",
       "      <td>FFF</td>\n",
       "      <td>-20.316292</td>\n",
       "      <td>118.576728</td>\n",
       "      <td>5.0513</td>\n",
       "      <td>3.5189</td>\n",
       "      <td>-2.862249e+06</td>\n",
       "      <td>5.254814e+06</td>\n",
       "      <td>-2.200569e+06</td>\n",
       "      <td>0.0028</td>\n",
       "      <td>0.0025</td>\n",
       "      <td>0.0062</td>\n",
       "      <td>5.039</td>\n",
       "      <td>-999.0</td>\n",
       "      <td>1</td>\n",
       "    </tr>\n",
       "    <tr>\n",
       "      <th>1</th>\n",
       "      <td>1002227</td>\n",
       "      <td>FFF</td>\n",
       "      <td>-22.126620</td>\n",
       "      <td>114.082379</td>\n",
       "      <td>13.2778</td>\n",
       "      <td>-0.7578</td>\n",
       "      <td>-2.412071e+06</td>\n",
       "      <td>5.396704e+06</td>\n",
       "      <td>-2.387407e+06</td>\n",
       "      <td>0.0022</td>\n",
       "      <td>0.0019</td>\n",
       "      <td>0.0072</td>\n",
       "      <td>13.275</td>\n",
       "      <td>-999.0</td>\n",
       "      <td>2</td>\n",
       "    </tr>\n",
       "    <tr>\n",
       "      <th>2</th>\n",
       "      <td>100375</td>\n",
       "      <td>FFF</td>\n",
       "      <td>-30.857534</td>\n",
       "      <td>128.034238</td>\n",
       "      <td>169.3684</td>\n",
       "      <td>149.5934</td>\n",
       "      <td>-3.376551e+06</td>\n",
       "      <td>4.316469e+06</td>\n",
       "      <td>-3.252421e+06</td>\n",
       "      <td>0.0013</td>\n",
       "      <td>0.0013</td>\n",
       "      <td>0.0034</td>\n",
       "      <td>169.369</td>\n",
       "      <td>-999.0</td>\n",
       "      <td>3</td>\n",
       "    </tr>\n",
       "    <tr>\n",
       "      <th>3</th>\n",
       "      <td>100384</td>\n",
       "      <td>FFF</td>\n",
       "      <td>-28.179691</td>\n",
       "      <td>114.510054</td>\n",
       "      <td>271.8558</td>\n",
       "      <td>250.0941</td>\n",
       "      <td>-2.334196e+06</td>\n",
       "      <td>5.119546e+06</td>\n",
       "      <td>-2.994191e+06</td>\n",
       "      <td>0.0013</td>\n",
       "      <td>0.0012</td>\n",
       "      <td>0.0037</td>\n",
       "      <td>271.861</td>\n",
       "      <td>-999.0</td>\n",
       "      <td>4</td>\n",
       "    </tr>\n",
       "    <tr>\n",
       "      <th>4</th>\n",
       "      <td>100387</td>\n",
       "      <td>FFF</td>\n",
       "      <td>-31.578329</td>\n",
       "      <td>117.846459</td>\n",
       "      <td>329.0848</td>\n",
       "      <td>303.0600</td>\n",
       "      <td>-2.540553e+06</td>\n",
       "      <td>4.809131e+06</td>\n",
       "      <td>-3.320848e+06</td>\n",
       "      <td>0.0012</td>\n",
       "      <td>0.0012</td>\n",
       "      <td>0.0030</td>\n",
       "      <td>329.085</td>\n",
       "      <td>-999.0</td>\n",
       "      <td>5</td>\n",
       "    </tr>\n",
       "  </tbody>\n",
       "</table>\n",
       "</div>"
      ],
      "text/plain": [
       "        ID CONST        LAT         LON   H_Ortho  h_Ellipse             X  \\\n",
       "0  1000619   FFF -20.316292  118.576728    5.0513     3.5189 -2.862249e+06   \n",
       "1  1002227   FFF -22.126620  114.082379   13.2778    -0.7578 -2.412071e+06   \n",
       "2   100375   FFF -30.857534  128.034238  169.3684   149.5934 -3.376551e+06   \n",
       "3   100384   FFF -28.179691  114.510054  271.8558   250.0941 -2.334196e+06   \n",
       "4   100387   FFF -31.578329  117.846459  329.0848   303.0600 -2.540553e+06   \n",
       "\n",
       "              Y             Z    SD_e    SD_n    SD_h      AHD  SD_AHD  index2  \n",
       "0  5.254814e+06 -2.200569e+06  0.0028  0.0025  0.0062    5.039  -999.0       1  \n",
       "1  5.396704e+06 -2.387407e+06  0.0022  0.0019  0.0072   13.275  -999.0       2  \n",
       "2  4.316469e+06 -3.252421e+06  0.0013  0.0013  0.0034  169.369  -999.0       3  \n",
       "3  5.119546e+06 -2.994191e+06  0.0013  0.0012  0.0037  271.861  -999.0       4  \n",
       "4  4.809131e+06 -3.320848e+06  0.0012  0.0012  0.0030  329.085  -999.0       5  "
      ]
     },
     "execution_count": 190,
     "metadata": {},
     "output_type": "execute_result"
    }
   ],
   "source": [
    "ahd.head()"
   ]
  },
  {
   "cell_type": "code",
   "execution_count": 715,
   "metadata": {},
   "outputs": [
    {
     "data": {
      "text/plain": [
       "1243.5008"
      ]
     },
     "execution_count": 715,
     "metadata": {},
     "output_type": "execute_result"
    }
   ],
   "source": [
    "ahd.iloc[264]['h_Ellipse']"
   ]
  },
  {
   "cell_type": "code",
   "execution_count": 716,
   "metadata": {},
   "outputs": [
    {
     "data": {
      "text/plain": [
       "1243.5008"
      ]
     },
     "execution_count": 716,
     "metadata": {},
     "output_type": "execute_result"
    }
   ],
   "source": [
    "ahd2['h_Ellipse'][264]"
   ]
  },
  {
   "cell_type": "code",
   "execution_count": 30,
   "metadata": {},
   "outputs": [
    {
     "name": "stdout",
     "output_type": "stream",
     "text": [
      "No. pts in adjustment: 7642\n",
      "No. pts in adjustment with AHD ht included: 7642\n"
     ]
    }
   ],
   "source": [
    "print('No. pts in adjustment: ' + str(len(ahd)))\n",
    "print('No. pts in adjustment with AHD ht included: '\n",
    "      + str(len(ahd.loc[ahd.AHD != -999.000])))"
   ]
  },
  {
   "cell_type": "code",
   "execution_count": null,
   "metadata": {},
   "outputs": [],
   "source": []
  },
  {
   "cell_type": "code",
   "execution_count": 35,
   "metadata": {},
   "outputs": [
    {
     "name": "stderr",
     "output_type": "stream",
     "text": [
      "/nix/store/ji4z44qp4wc660894vnwqd4dyq95jyx7-python3-3.6.3-env/lib/python3.6/site-packages/mpl_toolkits/basemap/__init__.py:3222: MatplotlibDeprecationWarning: The ishold function was deprecated in version 2.0.\n",
      "  b = ax.ishold()\n",
      "/nix/store/ji4z44qp4wc660894vnwqd4dyq95jyx7-python3-3.6.3-env/lib/python3.6/site-packages/mpl_toolkits/basemap/__init__.py:3231: MatplotlibDeprecationWarning: axes.hold is deprecated.\n",
      "    See the API Changes document (http://matplotlib.org/api/api_changes.html)\n",
      "    for more details.\n",
      "  ax.hold(b)\n"
     ]
    },
    {
     "data": {
      "text/plain": [
       "<matplotlib.colorbar.Colorbar at 0x7fe0f61ea2e8>"
      ]
     },
     "execution_count": 35,
     "metadata": {},
     "output_type": "execute_result"
    },
    {
     "data": {
      "image/png": "[encoded data removed]",
      "text/plain": [
       "<matplotlib.figure.Figure at 0x7fe0f63f7fd0>"
      ]
     },
     "metadata": {},
     "output_type": "display_data"
    }
   ],
   "source": [
    "lats, lons = zip(*ahd[['LAT', 'LON']].values)\n",
    "z = ahd['Z']\n",
    "\n",
    "top = max(lats)\n",
    "bottom = min(lats)\n",
    "left = min(lons)\n",
    "right = max(lons)\n",
    "m = Basemap(projection='merc',\n",
    "            resolution='l',\n",
    "            lat_0=(top + bottom) / 2,\n",
    "            lon_0=(left + right) / 2,\n",
    "            area_thresh=0.1,\n",
    "            llcrnrlon=left,\n",
    "            llcrnrlat=bottom,\n",
    "            urcrnrlon=right,\n",
    "            urcrnrlat=top)\n",
    "\n",
    "m.drawcoastlines()\n",
    "\n",
    "lons, lats = m(lons, lats)\n",
    "\n",
    "m.scatter(lons, lats, s=1, c=z)\n",
    "\n",
    "plt.title(\"DynaNet National Adjustment\")\n",
    "plt.colorbar()"
   ]
  },
  {
   "cell_type": "code",
   "execution_count": 36,
   "metadata": {},
   "outputs": [],
   "source": [
    "ahd['index2'] = pd.RangeIndex(start=1, stop=len(ahd)+1, step=1)"
   ]
  },
  {
   "cell_type": "code",
   "execution_count": 37,
   "metadata": {},
   "outputs": [],
   "source": [
    "ahd.loc[ahd.AHD != -999.000][['index2',\n",
    "                              'LAT',\n",
    "                              'LON',\n",
    "                              'h_Ellipse',\n",
    "                              'SD_h',\n",
    "                              'AHD',\n",
    "                              'SD_AHD',\n",
    "                              'ID']].to_csv('1_GNSSAHD.txt',\n",
    "                                            sep=' ',\n",
    "                                            header=False,\n",
    "                                            index=False)"
   ]
  },
  {
   "cell_type": "code",
   "execution_count": null,
   "metadata": {},
   "outputs": [],
   "source": []
  },
  {
   "cell_type": "code",
   "execution_count": 726,
   "metadata": {},
   "outputs": [
    {
     "name": "stdout",
     "output_type": "stream",
     "text": [
      "The autoreload extension is already loaded. To reload it, use:\n",
      "  %reload_ext autoreload\n"
     ]
    }
   ],
   "source": [
    "%load_ext autoreload\n",
    "%autoreload 2\n",
    "from utils import test"
   ]
  },
  {
   "cell_type": "code",
   "execution_count": 737,
   "metadata": {},
   "outputs": [],
   "source": [
    "# %i6,%f14.8,%f11.4,%f9.4,%f11.4,%f12.4,%3i,%s20\n",
    "np.savetxt('1_GNSSAHD2.txt',\n",
    "           ahd2.filled()[['POINT','LAT', 'LON', 'h_Ellipse', 'SD_h', 'AHD', 'SD_AHD', 'ID']],\n",
    "           fmt='%7i%14.8f%14.8f%11.4f%9.4f%11.4f%12.4f   %-20s')"
   ]
  },
  {
   "cell_type": "code",
   "execution_count": 738,
   "metadata": {},
   "outputs": [
    {
     "data": {
      "text/html": [
       "<span style='background-color: green; color: white; padding: 0.25em 1em;'>Passed</span>"
      ],
      "text/plain": [
       "<IPython.core.display.HTML object>"
      ]
     },
     "execution_count": 738,
     "metadata": {},
     "output_type": "execute_result"
    }
   ],
   "source": [
    "with open('1_GNSSAHD2.txt', 'r') as mine, open('tests/resources/1_GNSSAHD.txt', 'r') as theirs:\n",
    "    my_lines = mine.readlines()\n",
    "    their_lines = theirs.readlines()\n",
    "\n",
    "test(my_lines, their_lines)"
   ]
  },
  {
   "cell_type": "code",
   "execution_count": 739,
   "metadata": {},
   "outputs": [
    {
     "data": {
      "text/html": [
       "<span style='background-color: green; color: white; padding: 0.25em 1em;'>Passed</span>"
      ],
      "text/plain": [
       "<IPython.core.display.HTML object>"
      ]
     },
     "execution_count": 739,
     "metadata": {},
     "output_type": "execute_result"
    }
   ],
   "source": [
    "my_line = my_lines[264].replace('\\n', '')\n",
    "their_line = their_lines[264].replace('\\n', '')\n",
    "\n",
    "test(my_line, their_line)"
   ]
  },
  {
   "cell_type": "markdown",
   "metadata": {
    "collapsed": true
   },
   "source": [
    "## estimateAHDsigma"
   ]
  },
  {
   "cell_type": "markdown",
   "metadata": {},
   "source": [
    "This script opens the output from extractGNSSAHD and estimate the\n",
    "AHD uncertainties at collocated GNSS + AHD sites which have no AHD\n",
    "uncertainty.\n",
    "\n",
    "### COMPUTE SIGMA\n",
    "\n",
    "1. Read in a GNSS+AHD point\n",
    "2. Check if it has a AHD uncertainty. If it does not, that is, it has an\n",
    "   uncertainty value of -999, then compute an uncertainty based on distance\n",
    "   to nearest JP. The program calculates the closest junction point to each\n",
    "  GNSS+AHD pt and the uncertainty is 12 rt k where k is distance.\n",
    "3. If it already has an uncertainty, write the GNSS+AHD points with a AHD uncertainty to file\n",
    "4. SD_NAHD = sqrt((SD_h\\*\\*2)+(SD_GNSSAHD\\*\\*2))\n",
    "   That is - the SD of Nahd does not include gravity model uncertainty"
   ]
  },
  {
   "cell_type": "code",
   "execution_count": null,
   "metadata": {},
   "outputs": [],
   "source": []
  }
 ],
 "metadata": {
  "kernelspec": {
   "display_name": "Python 3",
   "language": "python",
   "name": "python3"
  },
  "language_info": {
   "codemirror_mode": {
    "name": "ipython",
    "version": 3
   },
   "file_extension": ".py",
   "mimetype": "text/x-python",
   "name": "python",
   "nbconvert_exporter": "python",
   "pygments_lexer": "ipython3",
   "version": "3.6.3"
  }
 },
 "nbformat": 4,
 "nbformat_minor": 2
}
